{
 "cells": [
  {
   "cell_type": "markdown",
   "id": "a141c5e1-771d-4a5b-a13a-7b4f78b91ac0",
   "metadata": {},
   "source": [
    "# Data Science Tools and Ecosystem"
   ]
  },
  {
   "cell_type": "markdown",
   "id": "373efd9a-3066-4937-8ee5-1aae9e666652",
   "metadata": {},
   "source": [
    "In this notebook, Data Science Tools and Ecosystem are summarized"
   ]
  },
  {
   "cell_type": "markdown",
   "id": "b04cbeda-3712-4433-9bae-120c536ee7f7",
   "metadata": {},
   "source": [
    "Some of the popular languages that Data Scientists use are:"
   ]
  },
  {
   "cell_type": "markdown",
   "id": "587335ff-ba82-4467-ae40-dfdd53a48709",
   "metadata": {},
   "source": [
    "1. PYTHON\n",
    "2. R\n",
    "3. SQL"
   ]
  },
  {
   "cell_type": "markdown",
   "id": "5533c52f-93c8-4db6-82f1-e5c4c4fbf076",
   "metadata": {},
   "source": [
    "Some of the commonly used libraries used by Data Scientists include:"
   ]
  },
  {
   "cell_type": "markdown",
   "id": "5c2829ed-54a8-4848-a4af-41704400a3aa",
   "metadata": {},
   "source": [
    "1. PANDAS\n",
    "2. NUMPY\n",
    "3. MATPLOTLIB"
   ]
  },
  {
   "cell_type": "markdown",
   "id": "6721f704-cec1-48a3-94c9-51e642ca2827",
   "metadata": {},
   "source": [
    "Data Science Tools"
   ]
  },
  {
   "cell_type": "markdown",
   "id": "63f5f9fd-6c33-4a46-8af2-044b813988e8",
   "metadata": {},
   "source": [
    "1. TENSORFLOW\n",
    "2. JUPYTERNOTEBOOK\n",
    "3. EXCEL"
   ]
  },
  {
   "cell_type": "markdown",
   "id": "cd775a0d-465a-4bb6-97a2-7e1f446a8faf",
   "metadata": {},
   "source": [
    "### Below are a few examples of evaluating arithmetic expression in python"
   ]
  },
  {
   "cell_type": "code",
   "execution_count": 2,
   "id": "a659a16f-4124-483a-81c8-5990aa0d092b",
   "metadata": {},
   "outputs": [
    {
     "name": "stdout",
     "output_type": "stream",
     "text": [
      "17\n"
     ]
    }
   ],
   "source": [
    "print((3*4)+5)"
   ]
  },
  {
   "cell_type": "code",
   "execution_count": 3,
   "id": "6f72b894-0faa-4e73-8f72-171a7c3dae2f",
   "metadata": {},
   "outputs": [
    {
     "name": "stdout",
     "output_type": "stream",
     "text": [
      "3.3333333333333335\n"
     ]
    }
   ],
   "source": [
    "print(200/60)"
   ]
  },
  {
   "cell_type": "markdown",
   "id": "d119b0b6-b3ff-4a08-a6ff-f64d5e9df0bc",
   "metadata": {},
   "source": [
    "**objectives:**"
   ]
  },
  {
   "cell_type": "markdown",
   "id": "256b64f1-66ef-4b57-b59b-b87bdb56a72e",
   "metadata": {},
   "source": [
    "- PHYTON\n",
    "- R\n",
    "- SQL"
   ]
  },
  {
   "cell_type": "markdown",
   "id": "253fd242-b4ef-4ca7-818e-c2e7bb4e2c35",
   "metadata": {},
   "source": [
    "## Author"
   ]
  },
  {
   "cell_type": "markdown",
   "id": "1f14d0fa-e81f-49e2-98d3-fc066736ce90",
   "metadata": {},
   "source": [
    "Dinesh Devarajan"
   ]
  },
  {
   "cell_type": "code",
   "execution_count": null,
   "id": "28fde903-2bb4-44cf-b06d-5b7c70bf25f6",
   "metadata": {},
   "outputs": [],
   "source": []
  }
 ],
 "metadata": {
  "kernelspec": {
   "display_name": "Python 3 (ipykernel)",
   "language": "python",
   "name": "python3"
  },
  "language_info": {
   "codemirror_mode": {
    "name": "ipython",
    "version": 3
   },
   "file_extension": ".py",
   "mimetype": "text/x-python",
   "name": "python",
   "nbconvert_exporter": "python",
   "pygments_lexer": "ipython3",
   "version": "3.12.8"
  }
 },
 "nbformat": 4,
 "nbformat_minor": 5
}
